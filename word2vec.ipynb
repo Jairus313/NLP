{
 "cells": [
  {
   "cell_type": "code",
   "execution_count": 5,
   "metadata": {},
   "outputs": [],
   "source": [
    "import nltk\n",
    "import re"
   ]
  },
  {
   "cell_type": "code",
   "execution_count": 2,
   "metadata": {},
   "outputs": [],
   "source": [
    "from gensim.models import Word2Vec\n",
    "from nltk.corpus import stopwords"
   ]
  },
  {
   "cell_type": "code",
   "execution_count": 3,
   "metadata": {},
   "outputs": [],
   "source": [
    "paragraph = \"\"\"Before time began, there was the Cube. We know not where it comes from,\n",
    "            only that it holds the power to create worlds and fill them with life. \n",
    "            That was how our race was born. For a time, we lived in harmony, but like all great power, \n",
    "            some wanted it for good, others for evil. And so began the war - \n",
    "            a war that ravaged our planet until it was consumed by death, \n",
    "            and the Cube was lost to the far reaches of space. \n",
    "            We scattered across the galaxy, hoping to find it and rebuild our home, searching every star, every world.\n",
    "            And just when all hope seemed lost, message of a new discovery drew us to an unknown planet called... Earth. \n",
    "            But we were already too late.\n",
    "            \n",
    "            With the All Spark gone, we cannot return life to our planet. \n",
    "            And fate has yielded its reward: a new world to call... home. \n",
    "            We live among its people now, hiding in plain sight... but watching over them in secret... waiting... protecting.\n",
    "            I have witnessed their capacity for courage, and though we are worlds apart, like us, \n",
    "            there's more to them than meets the eye. I am Optimus Prime, \n",
    "            and I send this message to any surviving Autobots taking refuge among the stars: We are here... we are waiting.\n",
    "            \n",
    "            Earth. Birthplace of the human race, a species much like our own. \n",
    "            Capable of great compassion... and great violence. For in our quest to protect the humans, \n",
    "            a deeper revelation dawns; our worlds have met before. \n",
    "            For the last two years, an advanced team of new Autobots has taken refuge here under my command. \n",
    "            Together, we form an alliance with the humans, a secret but brave squad of soldiers. \n",
    "            A classified strike team called NEST. We hunt for what remains of our Decepticon foes, \n",
    "            hiding in different countries around the globe.\n",
    "            \n",
    "            Our races united by a history long forgotten, and a future we shall face together. \n",
    "            I, am Optimus Prime, and I send this message so that our pasts will always be remembered. \n",
    "            For in those memories, we live on.\"\"\""
   ]
  },
  {
   "cell_type": "code",
   "execution_count": 6,
   "metadata": {},
   "outputs": [],
   "source": [
    "text = re.sub(r'\\[[0-9]*\\]',' ',paragraph)\n",
    "text = re.sub(r'\\s+',' ',text)\n",
    "text = text.lower()\n",
    "text = re.sub(r'\\d',' ',text)\n",
    "text = re.sub(r'\\s+',' ',text)"
   ]
  },
  {
   "cell_type": "code",
   "execution_count": 7,
   "metadata": {},
   "outputs": [],
   "source": [
    "sentences = nltk.sent_tokenize(text)\n",
    "\n",
    "sentences = [nltk.word_tokenize(sentence) for sentence in sentences]"
   ]
  },
  {
   "cell_type": "code",
   "execution_count": 8,
   "metadata": {},
   "outputs": [],
   "source": [
    "for i in range(len(sentences)):\n",
    "    sentences[i] = [word for word in sentences[i] if word not in stopwords.words('english')]"
   ]
  },
  {
   "cell_type": "code",
   "execution_count": 9,
   "metadata": {},
   "outputs": [],
   "source": [
    "model = Word2Vec(sentences, min_count=1)"
   ]
  },
  {
   "cell_type": "code",
   "execution_count": 16,
   "metadata": {},
   "outputs": [
    {
     "data": {
      "text/plain": [
       "<gensim.models.word2vec.Word2Vec at 0x1fcb058e9e8>"
      ]
     },
     "execution_count": 16,
     "metadata": {},
     "output_type": "execute_result"
    }
   ],
   "source": [
    "model"
   ]
  },
  {
   "cell_type": "code",
   "execution_count": 10,
   "metadata": {},
   "outputs": [],
   "source": [
    "words = model.wv.vocab"
   ]
  },
  {
   "cell_type": "code",
   "execution_count": 17,
   "metadata": {},
   "outputs": [
    {
     "data": {
      "text/plain": [
       "{'time': <gensim.models.keyedvectors.Vocab at 0x1fcb058e470>,\n",
       " 'began': <gensim.models.keyedvectors.Vocab at 0x1fcb058e4a8>,\n",
       " ',': <gensim.models.keyedvectors.Vocab at 0x1fcb058e438>,\n",
       " 'cube': <gensim.models.keyedvectors.Vocab at 0x1fcb058e0b8>,\n",
       " '.': <gensim.models.keyedvectors.Vocab at 0x1fcb058e5c0>,\n",
       " 'know': <gensim.models.keyedvectors.Vocab at 0x1fcb058e630>,\n",
       " 'comes': <gensim.models.keyedvectors.Vocab at 0x1fcb058ec18>,\n",
       " 'holds': <gensim.models.keyedvectors.Vocab at 0x1fcb058edd8>,\n",
       " 'power': <gensim.models.keyedvectors.Vocab at 0x1fcb0589898>,\n",
       " 'create': <gensim.models.keyedvectors.Vocab at 0x1fcb05898d0>,\n",
       " 'worlds': <gensim.models.keyedvectors.Vocab at 0x1fcb0589780>,\n",
       " 'fill': <gensim.models.keyedvectors.Vocab at 0x1fcb05896a0>,\n",
       " 'life': <gensim.models.keyedvectors.Vocab at 0x1fcb0589c18>,\n",
       " 'race': <gensim.models.keyedvectors.Vocab at 0x1fcb0589128>,\n",
       " 'born': <gensim.models.keyedvectors.Vocab at 0x1fcb0589198>,\n",
       " 'lived': <gensim.models.keyedvectors.Vocab at 0x1fcb05897f0>,\n",
       " 'harmony': <gensim.models.keyedvectors.Vocab at 0x1fcb0589240>,\n",
       " 'like': <gensim.models.keyedvectors.Vocab at 0x1fcb0589358>,\n",
       " 'great': <gensim.models.keyedvectors.Vocab at 0x1fcb0589cf8>,\n",
       " 'wanted': <gensim.models.keyedvectors.Vocab at 0x1fcb0589da0>,\n",
       " 'good': <gensim.models.keyedvectors.Vocab at 0x1fcb0589d30>,\n",
       " 'others': <gensim.models.keyedvectors.Vocab at 0x1fcb0589e48>,\n",
       " 'evil': <gensim.models.keyedvectors.Vocab at 0x1fcb0589f28>,\n",
       " 'war': <gensim.models.keyedvectors.Vocab at 0x1fcb0589f60>,\n",
       " '-': <gensim.models.keyedvectors.Vocab at 0x1fcb0589eb8>,\n",
       " 'ravaged': <gensim.models.keyedvectors.Vocab at 0x1fcb0589f98>,\n",
       " 'planet': <gensim.models.keyedvectors.Vocab at 0x1fcb0589fd0>,\n",
       " 'consumed': <gensim.models.keyedvectors.Vocab at 0x1fcb05895c0>,\n",
       " 'death': <gensim.models.keyedvectors.Vocab at 0x1fcb0589668>,\n",
       " 'lost': <gensim.models.keyedvectors.Vocab at 0x1fcb0589a90>,\n",
       " 'far': <gensim.models.keyedvectors.Vocab at 0x1fcb0589978>,\n",
       " 'reaches': <gensim.models.keyedvectors.Vocab at 0x1fcb0589940>,\n",
       " 'space': <gensim.models.keyedvectors.Vocab at 0x1fcb0589390>,\n",
       " 'scattered': <gensim.models.keyedvectors.Vocab at 0x1fcb05897b8>,\n",
       " 'across': <gensim.models.keyedvectors.Vocab at 0x1fcb0589470>,\n",
       " 'galaxy': <gensim.models.keyedvectors.Vocab at 0x1fcb05891d0>,\n",
       " 'hoping': <gensim.models.keyedvectors.Vocab at 0x1fcb0589438>,\n",
       " 'find': <gensim.models.keyedvectors.Vocab at 0x1fcb05892e8>,\n",
       " 'rebuild': <gensim.models.keyedvectors.Vocab at 0x1fcb0589550>,\n",
       " 'home': <gensim.models.keyedvectors.Vocab at 0x1fcb0589860>,\n",
       " 'searching': <gensim.models.keyedvectors.Vocab at 0x1fcb05893c8>,\n",
       " 'every': <gensim.models.keyedvectors.Vocab at 0x1fcb05894e0>,\n",
       " 'star': <gensim.models.keyedvectors.Vocab at 0x1fcb0589b70>,\n",
       " 'world': <gensim.models.keyedvectors.Vocab at 0x1fcb0589a20>,\n",
       " 'hope': <gensim.models.keyedvectors.Vocab at 0x1fcb0589cc0>,\n",
       " 'seemed': <gensim.models.keyedvectors.Vocab at 0x1fcb0589ba8>,\n",
       " 'message': <gensim.models.keyedvectors.Vocab at 0x1fcb0589630>,\n",
       " 'new': <gensim.models.keyedvectors.Vocab at 0x1fcb05892b0>,\n",
       " 'discovery': <gensim.models.keyedvectors.Vocab at 0x1fcb0589080>,\n",
       " 'drew': <gensim.models.keyedvectors.Vocab at 0x1fcb03327f0>,\n",
       " 'us': <gensim.models.keyedvectors.Vocab at 0x1fcb03329b0>,\n",
       " 'unknown': <gensim.models.keyedvectors.Vocab at 0x1fcb0332908>,\n",
       " 'called': <gensim.models.keyedvectors.Vocab at 0x1fcb0332828>,\n",
       " '...': <gensim.models.keyedvectors.Vocab at 0x1fcb0332630>,\n",
       " 'earth': <gensim.models.keyedvectors.Vocab at 0x1fcb0332d30>,\n",
       " 'already': <gensim.models.keyedvectors.Vocab at 0x1fcb0332860>,\n",
       " 'late': <gensim.models.keyedvectors.Vocab at 0x1fcb0332780>,\n",
       " 'spark': <gensim.models.keyedvectors.Vocab at 0x1fcb0332898>,\n",
       " 'gone': <gensim.models.keyedvectors.Vocab at 0x1fcb03325f8>,\n",
       " 'return': <gensim.models.keyedvectors.Vocab at 0x1fcb0332e80>,\n",
       " 'fate': <gensim.models.keyedvectors.Vocab at 0x1fcb0332be0>,\n",
       " 'yielded': <gensim.models.keyedvectors.Vocab at 0x1fcb0332c18>,\n",
       " 'reward': <gensim.models.keyedvectors.Vocab at 0x1fcb0332470>,\n",
       " ':': <gensim.models.keyedvectors.Vocab at 0x1fcb0332b00>,\n",
       " 'call': <gensim.models.keyedvectors.Vocab at 0x1fcb0332b38>,\n",
       " 'live': <gensim.models.keyedvectors.Vocab at 0x1fcb0332dd8>,\n",
       " 'among': <gensim.models.keyedvectors.Vocab at 0x1fcb0332a90>,\n",
       " 'people': <gensim.models.keyedvectors.Vocab at 0x1fcb0332ba8>,\n",
       " 'hiding': <gensim.models.keyedvectors.Vocab at 0x1fcb0332668>,\n",
       " 'plain': <gensim.models.keyedvectors.Vocab at 0x1fcb03327b8>,\n",
       " 'sight': <gensim.models.keyedvectors.Vocab at 0x1fcb0332978>,\n",
       " 'watching': <gensim.models.keyedvectors.Vocab at 0x1fcb0332b70>,\n",
       " 'secret': <gensim.models.keyedvectors.Vocab at 0x1fcb0332f60>,\n",
       " 'waiting': <gensim.models.keyedvectors.Vocab at 0x1fcb0332ac8>,\n",
       " 'protecting': <gensim.models.keyedvectors.Vocab at 0x1fcb0332940>,\n",
       " 'witnessed': <gensim.models.keyedvectors.Vocab at 0x1fcb0332cc0>,\n",
       " 'capacity': <gensim.models.keyedvectors.Vocab at 0x1fcb03329e8>,\n",
       " 'courage': <gensim.models.keyedvectors.Vocab at 0x1fcb0332a20>,\n",
       " 'though': <gensim.models.keyedvectors.Vocab at 0x1fcb0332a58>,\n",
       " 'apart': <gensim.models.keyedvectors.Vocab at 0x1fcb0332cf8>,\n",
       " \"'s\": <gensim.models.keyedvectors.Vocab at 0x1fcb0332ef0>,\n",
       " 'meets': <gensim.models.keyedvectors.Vocab at 0x1fcb0332710>,\n",
       " 'eye': <gensim.models.keyedvectors.Vocab at 0x1fcb0332c88>,\n",
       " 'optimus': <gensim.models.keyedvectors.Vocab at 0x1fcb058f0b8>,\n",
       " 'prime': <gensim.models.keyedvectors.Vocab at 0x1fcb058f198>,\n",
       " 'send': <gensim.models.keyedvectors.Vocab at 0x1fcb058f278>,\n",
       " 'surviving': <gensim.models.keyedvectors.Vocab at 0x1fcb058f358>,\n",
       " 'autobots': <gensim.models.keyedvectors.Vocab at 0x1fcb058f1d0>,\n",
       " 'taking': <gensim.models.keyedvectors.Vocab at 0x1fcb058f080>,\n",
       " 'refuge': <gensim.models.keyedvectors.Vocab at 0x1fcb058f2e8>,\n",
       " 'stars': <gensim.models.keyedvectors.Vocab at 0x1fcb058f710>,\n",
       " 'birthplace': <gensim.models.keyedvectors.Vocab at 0x1fcb058f470>,\n",
       " 'human': <gensim.models.keyedvectors.Vocab at 0x1fcb058f4a8>,\n",
       " 'species': <gensim.models.keyedvectors.Vocab at 0x1fcb058fb00>,\n",
       " 'much': <gensim.models.keyedvectors.Vocab at 0x1fcb058f7b8>,\n",
       " 'capable': <gensim.models.keyedvectors.Vocab at 0x1fcb058fa90>,\n",
       " 'compassion': <gensim.models.keyedvectors.Vocab at 0x1fcb058f860>,\n",
       " 'violence': <gensim.models.keyedvectors.Vocab at 0x1fcb058f400>,\n",
       " 'quest': <gensim.models.keyedvectors.Vocab at 0x1fcb058fb70>,\n",
       " 'protect': <gensim.models.keyedvectors.Vocab at 0x1fcb058fc88>,\n",
       " 'humans': <gensim.models.keyedvectors.Vocab at 0x1fcb058f6d8>,\n",
       " 'deeper': <gensim.models.keyedvectors.Vocab at 0x1fcb058fbe0>,\n",
       " 'revelation': <gensim.models.keyedvectors.Vocab at 0x1fcb058fcf8>,\n",
       " 'dawns': <gensim.models.keyedvectors.Vocab at 0x1fcb058fd68>,\n",
       " ';': <gensim.models.keyedvectors.Vocab at 0x1fcb058fe10>,\n",
       " 'met': <gensim.models.keyedvectors.Vocab at 0x1fcb058feb8>,\n",
       " 'last': <gensim.models.keyedvectors.Vocab at 0x1fcb058ff60>,\n",
       " 'two': <gensim.models.keyedvectors.Vocab at 0x1fcb058fef0>,\n",
       " 'years': <gensim.models.keyedvectors.Vocab at 0x1fcb058fc50>,\n",
       " 'advanced': <gensim.models.keyedvectors.Vocab at 0x1fcb058fe48>,\n",
       " 'team': <gensim.models.keyedvectors.Vocab at 0x1fcb058f908>,\n",
       " 'taken': <gensim.models.keyedvectors.Vocab at 0x1fcb058fac8>,\n",
       " 'command': <gensim.models.keyedvectors.Vocab at 0x1fcb058fd30>,\n",
       " 'together': <gensim.models.keyedvectors.Vocab at 0x1fcb058f518>,\n",
       " 'form': <gensim.models.keyedvectors.Vocab at 0x1fcb058f940>,\n",
       " 'alliance': <gensim.models.keyedvectors.Vocab at 0x1fcb058f7f0>,\n",
       " 'brave': <gensim.models.keyedvectors.Vocab at 0x1fcb058f128>,\n",
       " 'squad': <gensim.models.keyedvectors.Vocab at 0x1fcb0594908>,\n",
       " 'soldiers': <gensim.models.keyedvectors.Vocab at 0x1fcb0594710>,\n",
       " 'classified': <gensim.models.keyedvectors.Vocab at 0x1fcb05946a0>,\n",
       " 'strike': <gensim.models.keyedvectors.Vocab at 0x1fcb05946d8>,\n",
       " 'nest': <gensim.models.keyedvectors.Vocab at 0x1fcb0594780>,\n",
       " 'hunt': <gensim.models.keyedvectors.Vocab at 0x1fcb0594748>,\n",
       " 'remains': <gensim.models.keyedvectors.Vocab at 0x1fcb0594550>,\n",
       " 'decepticon': <gensim.models.keyedvectors.Vocab at 0x1fcb0594588>,\n",
       " 'foes': <gensim.models.keyedvectors.Vocab at 0x1fcb05945c0>,\n",
       " 'different': <gensim.models.keyedvectors.Vocab at 0x1fcb05945f8>,\n",
       " 'countries': <gensim.models.keyedvectors.Vocab at 0x1fcb0594668>,\n",
       " 'around': <gensim.models.keyedvectors.Vocab at 0x1fcb05943c8>,\n",
       " 'globe': <gensim.models.keyedvectors.Vocab at 0x1fcb05942e8>,\n",
       " 'races': <gensim.models.keyedvectors.Vocab at 0x1fcb0594438>,\n",
       " 'united': <gensim.models.keyedvectors.Vocab at 0x1fcb05944a8>,\n",
       " 'history': <gensim.models.keyedvectors.Vocab at 0x1fcb0594400>,\n",
       " 'long': <gensim.models.keyedvectors.Vocab at 0x1fcb0594518>,\n",
       " 'forgotten': <gensim.models.keyedvectors.Vocab at 0x1fcb0594ac8>,\n",
       " 'future': <gensim.models.keyedvectors.Vocab at 0x1fcb0594128>,\n",
       " 'shall': <gensim.models.keyedvectors.Vocab at 0x1fcb0594898>,\n",
       " 'face': <gensim.models.keyedvectors.Vocab at 0x1fcb05947b8>,\n",
       " 'pasts': <gensim.models.keyedvectors.Vocab at 0x1fcb0594940>,\n",
       " 'always': <gensim.models.keyedvectors.Vocab at 0x1fcb0594b38>,\n",
       " 'remembered': <gensim.models.keyedvectors.Vocab at 0x1fcb0594b70>,\n",
       " 'memories': <gensim.models.keyedvectors.Vocab at 0x1fcb0594ba8>}"
      ]
     },
     "execution_count": 17,
     "metadata": {},
     "output_type": "execute_result"
    }
   ],
   "source": [
    "words"
   ]
  },
  {
   "cell_type": "code",
   "execution_count": 11,
   "metadata": {},
   "outputs": [],
   "source": [
    "vector = model.wv['war']"
   ]
  },
  {
   "cell_type": "code",
   "execution_count": 18,
   "metadata": {},
   "outputs": [
    {
     "data": {
      "text/plain": [
       "array([-3.15077440e-03,  4.29339893e-03, -2.29990971e-03,  3.17815458e-03,\n",
       "       -3.08953621e-03, -3.95660195e-03,  3.92815052e-03,  1.56009546e-03,\n",
       "       -3.64113972e-03,  2.82365875e-03,  1.68597943e-03, -2.64869421e-03,\n",
       "       -3.23789718e-04, -7.53782515e-04,  3.00653162e-03,  2.28334148e-03,\n",
       "        2.55787303e-03,  1.94423032e-04, -1.96579657e-03,  4.21161018e-03,\n",
       "        4.93082684e-03, -1.72936707e-03,  2.06850609e-03, -5.06345204e-05,\n",
       "       -1.01696816e-03,  2.16859812e-03, -4.47107153e-03,  1.54345261e-03,\n",
       "       -4.71710041e-03,  2.55751656e-03,  1.92717090e-03,  1.82811043e-03,\n",
       "        2.05722358e-03, -4.48343391e-03,  2.92097538e-04, -4.45071375e-03,\n",
       "        1.31827313e-03,  4.70053824e-03, -2.20508687e-03,  4.18701814e-03,\n",
       "       -3.89851257e-03,  1.09281544e-04, -2.77906843e-03,  1.48568697e-05,\n",
       "        1.46733958e-03,  2.19013542e-03,  3.36042116e-03, -4.06813715e-03,\n",
       "        3.45757161e-03, -1.59176392e-03,  3.72779788e-03, -4.86012315e-03,\n",
       "       -2.74964469e-03,  1.99425686e-03,  1.57179846e-03,  3.95331485e-03,\n",
       "       -2.41677091e-03,  3.01689934e-03, -4.96182125e-03, -3.93184461e-03,\n",
       "       -3.98071622e-03, -4.09070868e-03,  1.07512285e-03, -2.09696926e-04,\n",
       "        3.28541209e-05,  4.71650111e-03, -9.84220998e-04, -4.62585734e-03,\n",
       "       -3.34162894e-03,  2.97963223e-03, -2.55190907e-03, -7.76527391e-04,\n",
       "        2.77760229e-03, -4.39466536e-03, -1.74284540e-03, -9.60875477e-04,\n",
       "        4.81731351e-03,  2.71071657e-03, -4.68416046e-03,  2.44636484e-03,\n",
       "        1.19937677e-03,  5.00166672e-04,  4.71297326e-03, -3.84845468e-03,\n",
       "       -3.66938091e-03,  4.34331596e-03, -3.88209330e-04, -3.94718535e-03,\n",
       "       -1.77734159e-03, -4.51110629e-03, -5.35464264e-04, -3.91791668e-03,\n",
       "        3.78637970e-03,  1.75213395e-03, -6.84313185e-04,  3.21695185e-03,\n",
       "        3.14549729e-03, -2.37743394e-03,  3.72119178e-03,  3.58239515e-03],\n",
       "      dtype=float32)"
      ]
     },
     "execution_count": 18,
     "metadata": {},
     "output_type": "execute_result"
    }
   ],
   "source": [
    "vector"
   ]
  },
  {
   "cell_type": "code",
   "execution_count": 13,
   "metadata": {},
   "outputs": [],
   "source": [
    "similar = model.wv.most_similar('earth')"
   ]
  },
  {
   "cell_type": "code",
   "execution_count": 19,
   "metadata": {},
   "outputs": [
    {
     "data": {
      "text/plain": [
       "[('life', 0.21210119128227234),\n",
       " ('death', 0.18972936272621155),\n",
       " ('consumed', 0.1869538426399231),\n",
       " ('always', 0.17594915628433228),\n",
       " ('history', 0.15914401412010193),\n",
       " ('met', 0.15258455276489258),\n",
       " ('reaches', 0.1393250674009323),\n",
       " ('people', 0.1380559653043747),\n",
       " ('.', 0.13391321897506714),\n",
       " ('comes', 0.13333576917648315)]"
      ]
     },
     "execution_count": 19,
     "metadata": {},
     "output_type": "execute_result"
    }
   ],
   "source": [
    "similar"
   ]
  },
  {
   "cell_type": "code",
   "execution_count": null,
   "metadata": {},
   "outputs": [],
   "source": []
  }
 ],
 "metadata": {
  "kernelspec": {
   "display_name": "Python 3",
   "language": "python",
   "name": "python3"
  },
  "language_info": {
   "codemirror_mode": {
    "name": "ipython",
    "version": 3
   },
   "file_extension": ".py",
   "mimetype": "text/x-python",
   "name": "python",
   "nbconvert_exporter": "python",
   "pygments_lexer": "ipython3",
   "version": "3.6.7"
  },
  "varInspector": {
   "cols": {
    "lenName": 16,
    "lenType": 16,
    "lenVar": 40
   },
   "kernels_config": {
    "python": {
     "delete_cmd_postfix": "",
     "delete_cmd_prefix": "del ",
     "library": "var_list.py",
     "varRefreshCmd": "print(var_dic_list())"
    },
    "r": {
     "delete_cmd_postfix": ") ",
     "delete_cmd_prefix": "rm(",
     "library": "var_list.r",
     "varRefreshCmd": "cat(var_dic_list()) "
    }
   },
   "types_to_exclude": [
    "module",
    "function",
    "builtin_function_or_method",
    "instance",
    "_Feature"
   ],
   "window_display": false
  }
 },
 "nbformat": 4,
 "nbformat_minor": 4
}
