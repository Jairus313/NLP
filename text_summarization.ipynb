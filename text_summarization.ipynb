{
 "cells": [
  {
   "cell_type": "code",
   "execution_count": 59,
   "metadata": {},
   "outputs": [],
   "source": [
    "import nltk\n",
    "from nltk.stem.porter import PorterStemmer\n",
    "from nltk.corpus import stopwords"
   ]
  },
  {
   "cell_type": "code",
   "execution_count": 85,
   "metadata": {},
   "outputs": [],
   "source": [
    "def _create_frequency_table(text_string) -> dict:\n",
    "\n",
    "    stopWords = set(stopwords.words(\"english\"))\n",
    "    words = nltk.word_tokenize(text_string)\n",
    "    ps = PorterStemmer()\n",
    "    \n",
    "    freqTable = dict()\n",
    "    for word in words:\n",
    "        word = ps.stem(word)\n",
    "        if word in stopWords:\n",
    "            continue\n",
    "        if word in freqTable:\n",
    "            freqTable[word] += 1\n",
    "        else:\n",
    "            freqTable[word] = 1\n",
    "\n",
    "    return freqTable"
   ]
  },
  {
   "cell_type": "code",
   "execution_count": 86,
   "metadata": {},
   "outputs": [],
   "source": [
    "paragraph = \"\"\"Before time began, there was the Cube. We know not where it comes from,\n",
    "            only that it holds the power to create worlds and fill them with life. \n",
    "            That was how our race was born. For a time, we lived in harmony, but like all great power, \n",
    "            some wanted it for good, others for evil. And so began the war - \n",
    "            a war that ravaged our planet until it was consumed by death, \n",
    "            and the Cube was lost to the far reaches of space. \n",
    "            We scattered across the galaxy, hoping to find it and rebuild our home, searching every star, every world.\n",
    "            And just when all hope seemed lost, message of a new discovery drew us to an unknown planet called... Earth. \n",
    "            But we were already too late.\n",
    "            \n",
    "            With the All Spark gone, we cannot return life to our planet. \n",
    "            And fate has yielded its reward: a new world to call... home. \n",
    "            We live among its people now, hiding in plain sight... but watching over them in secret... waiting... protecting.\n",
    "            I have witnessed their capacity for courage, and though we are worlds apart, like us, \n",
    "            there's more to them than meets the eye. I am Optimus Prime, \n",
    "            and I send this message to any surviving Autobots taking refuge among the stars: We are here... we are waiting.\n",
    "            \n",
    "            Earth. Birthplace of the human race, a species much like our own. \n",
    "            Capable of great compassion... and great violence. For in our quest to protect the humans, \n",
    "            a deeper revelation dawns; our worlds have met before. \n",
    "            For the last two years, an advanced team of new Autobots has taken refuge here under my command. \n",
    "            Together, we form an alliance with the humans, a secret but brave squad of soldiers. \n",
    "            A classified strike team called NEST. We hunt for what remains of our Decepticon foes, \n",
    "            hiding in different countries around the globe.\n",
    "            \n",
    "            Our races united by a history long forgotten, and a future we shall face together. \n",
    "            I, am Optimus Prime, and I send this message so that our pasts will always be remembered. \n",
    "            For in those memories, we live on.\"\"\""
   ]
  },
  {
   "cell_type": "code",
   "execution_count": 87,
   "metadata": {},
   "outputs": [
    {
     "name": "stdout",
     "output_type": "stream",
     "text": [
      "Before time began, there was the Cube. We know not where it comes from,\n",
      "            only that it holds the power to create worlds and fill them with life. \n",
      "            That was how our race was born. For a time, we lived in harmony, but like all great power, \n",
      "            some wanted it for good, others for evil. And so began the war - \n",
      "            a war that ravaged our planet until it was consumed by death, \n",
      "            and the Cube was lost to the far reaches of space. \n",
      "            We scattered across the galaxy, hoping to find it and rebuild our home, searching every star, every world.\n",
      "            And just when all hope seemed lost, message of a new discovery drew us to an unknown planet called... Earth. \n",
      "            But we were already too late.\n",
      "            \n",
      "            With the All Spark gone, we cannot return life to our planet. \n",
      "            And fate has yielded its reward: a new world to call... home. \n",
      "            We live among its people now, hiding in plain sight... but watching over them in secret... waiting... protecting.\n",
      "            I have witnessed their capacity for courage, and though we are worlds apart, like us, \n",
      "            there's more to them than meets the eye. I am Optimus Prime, \n",
      "            and I send this message to any surviving Autobots taking refuge among the stars: We are here... we are waiting.\n",
      "            \n",
      "            Earth. Birthplace of the human race, a species much like our own. \n",
      "            Capable of great compassion... and great violence. For in our quest to protect the humans, \n",
      "            a deeper revelation dawns; our worlds have met before. \n",
      "            For the last two years, an advanced team of new Autobots has taken refuge here under my command. \n",
      "            Together, we form an alliance with the humans, a secret but brave squad of soldiers. \n",
      "            A classified strike team called NEST. We hunt for what remains of our Decepticon foes, \n",
      "            hiding in different countries around the globe.\n",
      "            \n",
      "            Our races united by a history long forgotten, and a future we shall face together. \n",
      "            I, am Optimus Prime, and I send this message so that our pasts will always be remembered. \n",
      "            For in those memories, we live on.\n"
     ]
    }
   ],
   "source": [
    "freqTable = _create_frequency_table(paragraph)"
   ]
  },
  {
   "cell_type": "code",
   "execution_count": 88,
   "metadata": {},
   "outputs": [
    {
     "data": {
      "text/plain": [
       "{'befor': 2,\n",
       " 'time': 2,\n",
       " 'began': 2,\n",
       " ',': 27,\n",
       " 'wa': 5,\n",
       " 'cube': 2,\n",
       " '.': 24,\n",
       " 'We': 5,\n",
       " 'know': 1,\n",
       " 'come': 1,\n",
       " 'onli': 1,\n",
       " 'hold': 1,\n",
       " 'power': 2,\n",
       " 'creat': 1,\n",
       " 'world': 5,\n",
       " 'fill': 1,\n",
       " 'life': 2,\n",
       " 'race': 3,\n",
       " 'born': 1,\n",
       " 'live': 3,\n",
       " 'harmoni': 1,\n",
       " 'like': 3,\n",
       " 'great': 3,\n",
       " 'want': 1,\n",
       " 'good': 1,\n",
       " 'evil': 1,\n",
       " 'war': 2,\n",
       " '-': 1,\n",
       " 'ravag': 1,\n",
       " 'planet': 3,\n",
       " 'consum': 1,\n",
       " 'death': 1,\n",
       " 'lost': 2,\n",
       " 'far': 1,\n",
       " 'reach': 1,\n",
       " 'space': 1,\n",
       " 'scatter': 1,\n",
       " 'across': 1,\n",
       " 'galaxi': 1,\n",
       " 'hope': 2,\n",
       " 'find': 1,\n",
       " 'rebuild': 1,\n",
       " 'home': 2,\n",
       " 'search': 1,\n",
       " 'everi': 2,\n",
       " 'star': 2,\n",
       " 'seem': 1,\n",
       " 'messag': 3,\n",
       " 'new': 3,\n",
       " 'discoveri': 1,\n",
       " 'drew': 1,\n",
       " 'us': 2,\n",
       " 'unknown': 1,\n",
       " 'call': 3,\n",
       " '...': 7,\n",
       " 'earth': 2,\n",
       " 'alreadi': 1,\n",
       " 'late': 1,\n",
       " 'spark': 1,\n",
       " 'gone': 1,\n",
       " 'return': 1,\n",
       " 'fate': 1,\n",
       " 'ha': 2,\n",
       " 'yield': 1,\n",
       " 'reward': 1,\n",
       " ':': 2,\n",
       " 'among': 2,\n",
       " 'peopl': 1,\n",
       " 'hide': 2,\n",
       " 'plain': 1,\n",
       " 'sight': 1,\n",
       " 'watch': 1,\n",
       " 'secret': 2,\n",
       " 'wait': 2,\n",
       " 'protect': 2,\n",
       " 'I': 5,\n",
       " 'wit': 1,\n",
       " 'capac': 1,\n",
       " 'courag': 1,\n",
       " 'though': 1,\n",
       " 'apart': 1,\n",
       " \"'s\": 1,\n",
       " 'meet': 1,\n",
       " 'eye': 1,\n",
       " 'optimu': 2,\n",
       " 'prime': 2,\n",
       " 'send': 2,\n",
       " 'thi': 2,\n",
       " 'ani': 1,\n",
       " 'surviv': 1,\n",
       " 'autobot': 2,\n",
       " 'take': 1,\n",
       " 'refug': 2,\n",
       " 'birthplac': 1,\n",
       " 'human': 3,\n",
       " 'speci': 1,\n",
       " 'much': 1,\n",
       " 'capabl': 1,\n",
       " 'compass': 1,\n",
       " 'violenc': 1,\n",
       " 'quest': 1,\n",
       " 'deeper': 1,\n",
       " 'revel': 1,\n",
       " 'dawn': 1,\n",
       " ';': 1,\n",
       " 'met': 1,\n",
       " 'last': 1,\n",
       " 'two': 1,\n",
       " 'year': 1,\n",
       " 'advanc': 1,\n",
       " 'team': 2,\n",
       " 'taken': 1,\n",
       " 'command': 1,\n",
       " 'togeth': 2,\n",
       " 'form': 1,\n",
       " 'allianc': 1,\n",
       " 'brave': 1,\n",
       " 'squad': 1,\n",
       " 'soldier': 1,\n",
       " 'A': 1,\n",
       " 'classifi': 1,\n",
       " 'strike': 1,\n",
       " 'nest': 1,\n",
       " 'hunt': 1,\n",
       " 'remain': 1,\n",
       " 'decepticon': 1,\n",
       " 'foe': 1,\n",
       " 'differ': 1,\n",
       " 'countri': 1,\n",
       " 'around': 1,\n",
       " 'globe': 1,\n",
       " 'unit': 1,\n",
       " 'histori': 1,\n",
       " 'long': 1,\n",
       " 'forgotten': 1,\n",
       " 'futur': 1,\n",
       " 'shall': 1,\n",
       " 'face': 1,\n",
       " 'past': 1,\n",
       " 'alway': 1,\n",
       " 'rememb': 1,\n",
       " 'memori': 1}"
      ]
     },
     "execution_count": 88,
     "metadata": {},
     "output_type": "execute_result"
    }
   ],
   "source": [
    "freqTable"
   ]
  },
  {
   "cell_type": "code",
   "execution_count": 64,
   "metadata": {},
   "outputs": [],
   "source": [
    "sentences = nltk.sent_tokenize(paragraph)"
   ]
  },
  {
   "cell_type": "code",
   "execution_count": 65,
   "metadata": {},
   "outputs": [
    {
     "data": {
      "text/plain": [
       "['Before time began, there was the Cube.',\n",
       " 'We know not where it comes from,\\n            only that it holds the power to create worlds and fill them with life.',\n",
       " 'That was how our race was born.',\n",
       " 'For a time, we lived in harmony, but like all great power, \\n            some wanted it for good, others for evil.',\n",
       " 'And so began the war - \\n            a war that ravaged our planet until it was consumed by death, \\n            and the Cube was lost to the far reaches of space.',\n",
       " 'We scattered across the galaxy, hoping to find it and rebuild our home, searching every star, every world.',\n",
       " 'And just when all hope seemed lost, message of a new discovery drew us to an unknown planet called... Earth.',\n",
       " 'But we were already too late.',\n",
       " 'With the All Spark gone, we cannot return life to our planet.',\n",
       " 'And fate has yielded its reward: a new world to call... home.',\n",
       " 'We live among its people now, hiding in plain sight... but watching over them in secret... waiting... protecting.',\n",
       " \"I have witnessed their capacity for courage, and though we are worlds apart, like us, \\n            there's more to them than meets the eye.\",\n",
       " 'I am Optimus Prime, \\n            and I send this message to any surviving Autobots taking refuge among the stars: We are here... we are waiting.',\n",
       " 'Earth.',\n",
       " 'Birthplace of the human race, a species much like our own.',\n",
       " 'Capable of great compassion... and great violence.',\n",
       " 'For in our quest to protect the humans, \\n            a deeper revelation dawns; our worlds have met before.',\n",
       " 'For the last two years, an advanced team of new Autobots has taken refuge here under my command.',\n",
       " 'Together, we form an alliance with the humans, a secret but brave squad of soldiers.',\n",
       " 'A classified strike team called NEST.',\n",
       " 'We hunt for what remains of our Decepticon foes, \\n            hiding in different countries around the globe.',\n",
       " 'Our races united by a history long forgotten, and a future we shall face together.',\n",
       " 'I, am Optimus Prime, and I send this message so that our pasts will always be remembered.',\n",
       " 'For in those memories, we live on.']"
      ]
     },
     "execution_count": 65,
     "metadata": {},
     "output_type": "execute_result"
    }
   ],
   "source": [
    "sentences"
   ]
  },
  {
   "cell_type": "code",
   "execution_count": 66,
   "metadata": {},
   "outputs": [],
   "source": [
    "def _score_sentences(sentences, freqTable) -> dict:\n",
    "    sentenceValue = dict()\n",
    "\n",
    "    for sentence in sentences:\n",
    "        word_count_in_sentence = (len(nltk.word_tokenize(sentence)))\n",
    "        for wordValue in freqTable:\n",
    "            if wordValue in sentence.lower():\n",
    "                if sentence[:10] in sentenceValue:\n",
    "                    sentenceValue[sentence[:10]] += freqTable[wordValue]\n",
    "                else:\n",
    "                    sentenceValue[sentence[:10]] = freqTable[wordValue]\n",
    "\n",
    "        sentenceValue[sentence[:10]] = sentenceValue[sentence[:10]] // word_count_in_sentence\n",
    "\n",
    "    return sentenceValue"
   ]
  },
  {
   "cell_type": "code",
   "execution_count": 67,
   "metadata": {},
   "outputs": [],
   "source": [
    "sentence_scores = _score_sentences(sentences, freqTable)"
   ]
  },
  {
   "cell_type": "code",
   "execution_count": 80,
   "metadata": {},
   "outputs": [
    {
     "data": {
      "text/plain": [
       "{'Before tim': 7,\n",
       " 'We know no': 2,\n",
       " 'That was h': 4,\n",
       " 'For a time': 2,\n",
       " 'And so beg': 2,\n",
       " 'We scatter': 2,\n",
       " 'And just w': 3,\n",
       " 'But we wer': 3,\n",
       " 'With the A': 4,\n",
       " 'And fate h': 3,\n",
       " 'We live am': 3,\n",
       " 'I have wit': 2,\n",
       " 'I am Optim': 3,\n",
       " 'Earth.': 13,\n",
       " 'Birthplace': 4,\n",
       " 'Capable of': 4,\n",
       " 'For in our': 3,\n",
       " 'For the la': 3,\n",
       " 'Together, ': 3,\n",
       " 'A classifi': 4,\n",
       " 'We hunt fo': 3,\n",
       " 'Our races ': 3,\n",
       " 'I, am Opti': 3,\n",
       " 'For in tho': 6}"
      ]
     },
     "execution_count": 80,
     "metadata": {},
     "output_type": "execute_result"
    }
   ],
   "source": [
    "sentence_scores"
   ]
  },
  {
   "cell_type": "code",
   "execution_count": 68,
   "metadata": {},
   "outputs": [],
   "source": [
    "def _find_average_score(sentenceValue) -> int:\n",
    "    sumValues = 0\n",
    "    for entry in sentenceValue:\n",
    "        sumValues += sentenceValue[entry]\n",
    "\n",
    "    # Average value of a sentence from original text\n",
    "    average = int(sumValues / len(sentenceValue))\n",
    "\n",
    "    return average"
   ]
  },
  {
   "cell_type": "code",
   "execution_count": 69,
   "metadata": {},
   "outputs": [],
   "source": [
    "threshold = _find_average_score(sentence_scores)"
   ]
  },
  {
   "cell_type": "code",
   "execution_count": 70,
   "metadata": {},
   "outputs": [
    {
     "data": {
      "text/plain": [
       "3"
      ]
     },
     "execution_count": 70,
     "metadata": {},
     "output_type": "execute_result"
    }
   ],
   "source": [
    "threshold"
   ]
  },
  {
   "cell_type": "code",
   "execution_count": 71,
   "metadata": {},
   "outputs": [],
   "source": [
    "def _generate_summary(sentences, sentenceValue, threshold):\n",
    "    sentence_count = 0\n",
    "    summary = ''\n",
    "\n",
    "    for sentence in sentences:\n",
    "        if sentence[:10] in sentenceValue and sentenceValue[sentence[:10]] > (threshold):\n",
    "            summary += \" \" + sentence\n",
    "            sentence_count += 1\n",
    "\n",
    "    return summary"
   ]
  },
  {
   "cell_type": "code",
   "execution_count": 78,
   "metadata": {},
   "outputs": [],
   "source": [
    "summary = _generate_summary(sentences, sentence_scores, 0.75 * threshold)"
   ]
  },
  {
   "cell_type": "code",
   "execution_count": 79,
   "metadata": {},
   "outputs": [
    {
     "name": "stdout",
     "output_type": "stream",
     "text": [
      " Before time began, there was the Cube. That was how our race was born. And just when all hope seemed lost, message of a new discovery drew us to an unknown planet called... Earth. But we were already too late. With the All Spark gone, we cannot return life to our planet. And fate has yielded its reward: a new world to call... home. We live among its people now, hiding in plain sight... but watching over them in secret... waiting... protecting. I am Optimus Prime, \n",
      "            and I send this message to any surviving Autobots taking refuge among the stars: We are here... we are waiting. Earth. Birthplace of the human race, a species much like our own. Capable of great compassion... and great violence. For in our quest to protect the humans, \n",
      "            a deeper revelation dawns; our worlds have met before. For the last two years, an advanced team of new Autobots has taken refuge here under my command. Together, we form an alliance with the humans, a secret but brave squad of soldiers. A classified strike team called NEST. We hunt for what remains of our Decepticon foes, \n",
      "            hiding in different countries around the globe. Our races united by a history long forgotten, and a future we shall face together. I, am Optimus Prime, and I send this message so that our pasts will always be remembered. For in those memories, we live on.\n"
     ]
    }
   ],
   "source": [
    "print(summary)"
   ]
  },
  {
   "cell_type": "code",
   "execution_count": null,
   "metadata": {},
   "outputs": [],
   "source": []
  }
 ],
 "metadata": {
  "kernelspec": {
   "display_name": "Python 3",
   "language": "python",
   "name": "python3"
  },
  "language_info": {
   "codemirror_mode": {
    "name": "ipython",
    "version": 3
   },
   "file_extension": ".py",
   "mimetype": "text/x-python",
   "name": "python",
   "nbconvert_exporter": "python",
   "pygments_lexer": "ipython3",
   "version": "3.6.7"
  },
  "varInspector": {
   "cols": {
    "lenName": 16,
    "lenType": 16,
    "lenVar": 40
   },
   "kernels_config": {
    "python": {
     "delete_cmd_postfix": "",
     "delete_cmd_prefix": "del ",
     "library": "var_list.py",
     "varRefreshCmd": "print(var_dic_list())"
    },
    "r": {
     "delete_cmd_postfix": ") ",
     "delete_cmd_prefix": "rm(",
     "library": "var_list.r",
     "varRefreshCmd": "cat(var_dic_list()) "
    }
   },
   "types_to_exclude": [
    "module",
    "function",
    "builtin_function_or_method",
    "instance",
    "_Feature"
   ],
   "window_display": false
  }
 },
 "nbformat": 4,
 "nbformat_minor": 2
}
