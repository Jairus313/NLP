{
 "cells": [
  {
   "cell_type": "code",
   "execution_count": 4,
   "metadata": {},
   "outputs": [],
   "source": [
    "import nltk"
   ]
  },
  {
   "cell_type": "code",
   "execution_count": 5,
   "metadata": {},
   "outputs": [
    {
     "ename": "ModuleNotFoundError",
     "evalue": "No module named 'gensim'",
     "output_type": "error",
     "traceback": [
      "\u001b[1;31m---------------------------------------------------------------------------\u001b[0m",
      "\u001b[1;31mModuleNotFoundError\u001b[0m                       Traceback (most recent call last)",
      "\u001b[1;32m<ipython-input-5-7b392ea29ac9>\u001b[0m in \u001b[0;36m<module>\u001b[1;34m\u001b[0m\n\u001b[1;32m----> 1\u001b[1;33m \u001b[1;32mfrom\u001b[0m \u001b[0mgensim\u001b[0m\u001b[1;33m.\u001b[0m\u001b[0mmodels\u001b[0m \u001b[1;32mimport\u001b[0m \u001b[0mWord2Vec\u001b[0m\u001b[1;33m\u001b[0m\u001b[1;33m\u001b[0m\u001b[0m\n\u001b[0m\u001b[0;32m      2\u001b[0m \u001b[1;32mfrom\u001b[0m \u001b[0mnltk\u001b[0m\u001b[1;33m.\u001b[0m\u001b[0mcorpus\u001b[0m \u001b[1;32mimport\u001b[0m \u001b[0mstopwords\u001b[0m\u001b[1;33m\u001b[0m\u001b[1;33m\u001b[0m\u001b[0m\n",
      "\u001b[1;31mModuleNotFoundError\u001b[0m: No module named 'gensim'"
     ]
    }
   ],
   "source": [
    "from gensim.models import Word2Vec\n",
    "from nltk.corpus import stopwords"
   ]
  },
  {
   "cell_type": "code",
   "execution_count": null,
   "metadata": {},
   "outputs": [],
   "source": [
    "paragraph = \"\"\"Before time began, there was the Cube. We know not where it comes from,\n",
    "            only that it holds the power to create worlds and fill them with life. \n",
    "            That was how our race was born. For a time, we lived in harmony, but like all great power, \n",
    "            some wanted it for good, others for evil. And so began the war - \n",
    "            a war that ravaged our planet until it was consumed by death, \n",
    "            and the Cube was lost to the far reaches of space. \n",
    "            We scattered across the galaxy, hoping to find it and rebuild our home, searching every star, every world.\n",
    "            And just when all hope seemed lost, message of a new discovery drew us to an unknown planet called... Earth. \n",
    "            But we were already too late.\n",
    "            \n",
    "            With the All Spark gone, we cannot return life to our planet. \n",
    "            And fate has yielded its reward: a new world to call... home. \n",
    "            We live among its people now, hiding in plain sight... but watching over them in secret... waiting... protecting.\n",
    "            I have witnessed their capacity for courage, and though we are worlds apart, like us, \n",
    "            there's more to them than meets the eye. I am Optimus Prime, \n",
    "            and I send this message to any surviving Autobots taking refuge among the stars: We are here... we are waiting.\n",
    "            \n",
    "            Earth. Birthplace of the human race, a species much like our own. \n",
    "            Capable of great compassion... and great violence. For in our quest to protect the humans, \n",
    "            a deeper revelation dawns; our worlds have met before. \n",
    "            For the last two years, an advanced team of new Autobots has taken refuge here under my command. \n",
    "            Together, we form an alliance with the humans, a secret but brave squad of soldiers. \n",
    "            A classified strike team called NEST. We hunt for what remains of our Decepticon foes, \n",
    "            hiding in different countries around the globe.\n",
    "            \n",
    "            Our races united by a history long forgotten, and a future we shall face together. \n",
    "            I, am Optimus Prime, and I send this message so that our pasts will always be remembered. \n",
    "            For in those memories, we live on.\"\"\""
   ]
  },
  {
   "cell_type": "code",
   "execution_count": null,
   "metadata": {},
   "outputs": [],
   "source": []
  }
 ],
 "metadata": {
  "kernelspec": {
   "display_name": "Python 3",
   "language": "python",
   "name": "python3"
  },
  "language_info": {
   "codemirror_mode": {
    "name": "ipython",
    "version": 3
   },
   "file_extension": ".py",
   "mimetype": "text/x-python",
   "name": "python",
   "nbconvert_exporter": "python",
   "pygments_lexer": "ipython3",
   "version": "3.7.4"
  }
 },
 "nbformat": 4,
 "nbformat_minor": 4
}
